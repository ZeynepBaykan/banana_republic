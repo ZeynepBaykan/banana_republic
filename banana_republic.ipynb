{
 "cells": [
  {
   "cell_type": "code",
   "execution_count": null,
   "id": "6e17719f-ce4c-4ab9-b7b4-a0ea5a87bf9b",
   "metadata": {
    "pycharm": {
     "name": "#%%\n"
    }
   },
   "outputs": [],
   "source": [
    "import pandas as pd"
   ]
  },
  {
   "cell_type": "code",
   "execution_count": null,
   "id": "0039fb4e-b9b4-4fff-9272-1d18de3a0a01",
   "metadata": {
    "pycharm": {
     "name": "#%%\n"
    }
   },
   "outputs": [],
   "source": [
    "import time\n",
    "import numpy as np\n",
    "import pandas as pd\n",
    "from matplotlib import pyplot as plt\n",
    "import seaborn as sns\n",
    "import lightgbm as lgb\n",
    "import warnings"
   ]
  },
  {
   "cell_type": "code",
   "execution_count": null,
   "id": "6e5a7395-dfdf-41bb-b1a2-8edbb628661c",
   "metadata": {
    "pycharm": {
     "name": "#%%\n"
    }
   },
   "outputs": [],
   "source": [
    "def check_df(dataframe, head=5):\n",
    "    print(\"##################### Shape #####################\")\n",
    "    print(dataframe.shape)\n",
    "    print(\"##################### Types #####################\")\n",
    "    print(dataframe.dtypes)\n",
    "    print(\"##################### Head #####################\")\n",
    "    print(dataframe.head(head))\n",
    "    print(\"##################### Tail #####################\")\n",
    "    print(dataframe.tail(head))\n",
    "    print(\"##################### NA #####################\")\n",
    "    print(dataframe.isnull().sum())\n",
    "    print(\"##################### Quantiles #####################\")\n",
    "    print(dataframe.quantile([0, 0.05, 0.50, 0.95, 0.99, 1]).T)"
   ]
  },
  {
   "cell_type": "code",
   "execution_count": null,
   "id": "98ff5506-4e8a-4918-8d4e-13936f51391a",
   "metadata": {
    "pycharm": {
     "name": "#%%\n"
    }
   },
   "outputs": [],
   "source": [
    "df = pd.read_csv('municipality_bus_utilization.csv')"
   ]
  },
  {
   "cell_type": "code",
   "execution_count": null,
   "id": "2bb255a8-a088-4446-b1bc-4f45f6a5be36",
   "metadata": {
    "pycharm": {
     "name": "#%%\n"
    }
   },
   "outputs": [],
   "source": [
    "pd.set_option('display.max_columns', None)\n",
    "pd.set_option('display.width', 500)\n",
    "warnings.filterwarnings('ignore')\n"
   ]
  },
  {
   "cell_type": "code",
   "execution_count": null,
   "id": "a99983fc-234c-4c3c-a97b-2a72bf84f2ec",
   "metadata": {
    "pycharm": {
     "name": "#%%\n"
    }
   },
   "outputs": [],
   "source": [
    "df.head()"
   ]
  },
  {
   "cell_type": "markdown",
   "id": "5315eee7-584a-453c-a824-be21db9a19cb",
   "metadata": {
    "pycharm": {
     "name": "#%% md\n"
    }
   },
   "source": [
    "2017-08-05 to 2017-08-19) as assessment (test) data"
   ]
  },
  {
   "cell_type": "code",
   "execution_count": null,
   "id": "33a77bcc-7063-487f-b4db-28e5613a62a5",
   "metadata": {
    "pycharm": {
     "name": "#%%\n"
    }
   },
   "outputs": [],
   "source": [
    "df[\"timestamp\"].min()"
   ]
  },
  {
   "cell_type": "code",
   "execution_count": null,
   "id": "f8b41e1f-8e77-4f22-ad9d-66dce8722839",
   "metadata": {
    "pycharm": {
     "name": "#%%\n"
    }
   },
   "outputs": [],
   "source": [
    "df[\"timestamp\"].max()"
   ]
  },
  {
   "cell_type": "code",
   "execution_count": null,
   "id": "a11ce423-33dd-4e85-b7e7-c414197f6323",
   "metadata": {
    "pycharm": {
     "name": "#%%\n"
    }
   },
   "outputs": [],
   "source": [
    "# Satış dağılımı nasıl?\n",
    "df[\"usage\"].describe([0.10, 0.30, 0.50, 0.70, 0.80, 0.90, 0.95, 0.99])\n"
   ]
  },
  {
   "cell_type": "code",
   "execution_count": null,
   "id": "9f0f6b3a-006a-445b-88d3-d4da062ea84c",
   "metadata": {
    "pycharm": {
     "name": "#%%\n"
    }
   },
   "outputs": [],
   "source": [
    "\n",
    "# Kaç belediye var?\n",
    "df[[\"municipality_id\"]].nunique()\n",
    "\n"
   ]
  },
  {
   "cell_type": "code",
   "execution_count": null,
   "id": "73e47714-995c-43c4-971d-3509acb4e009",
   "metadata": {
    "pycharm": {
     "name": "#%%\n"
    }
   },
   "outputs": [],
   "source": [
    "# Kaç otobüs var?\n",
    "df[[\"total_capacity\"]].sum()\n",
    "\n"
   ]
  },
  {
   "cell_type": "code",
   "execution_count": null,
   "id": "b281b946-39db-4cb9-8d56-d844064a1424",
   "metadata": {
    "tags": [],
    "pycharm": {
     "name": "#%%\n"
    }
   },
   "outputs": [],
   "source": [
    "# Her belediyede eşit sayıda mı otobüs var?\n",
    "df.groupby([\"municipality_id\"])[\"total_capacity\"].sum()\n",
    "\n"
   ]
  },
  {
   "cell_type": "code",
   "execution_count": null,
   "id": "f789c378-6818-45cd-b69e-9af1fbfab43c",
   "metadata": {
    "pycharm": {
     "name": "#%%\n"
    }
   },
   "outputs": [],
   "source": [
    "# Peki her store'da eşit sayıda mı sales var?\n",
    "df.groupby([\"municipality_id\", \"total_capacity\"]).agg({\"usage\": [\"sum\"]})\n"
   ]
  },
  {
   "cell_type": "code",
   "execution_count": null,
   "id": "7566dadc-4187-4113-884d-c6bcf0ee0c30",
   "metadata": {
    "pycharm": {
     "name": "#%%\n"
    }
   },
   "outputs": [],
   "source": [
    "# mağaza-item kırılımında satış istatistikleri\n",
    "df.groupby([\"municipality_id\", \"total_capacity\"]).agg({\"usage\": [\"sum\", \"mean\", \"median\", \"std\"]})"
   ]
  },
  {
   "cell_type": "code",
   "execution_count": null,
   "id": "a339e377-1bd5-483f-b6cc-4c2cf0792bd1",
   "metadata": {
    "pycharm": {
     "name": "#%%\n"
    }
   },
   "outputs": [],
   "source": [
    "check_df(df)"
   ]
  },
  {
   "cell_type": "code",
   "execution_count": null,
   "id": "1fe3a44b-dafc-4aa4-8839-ef95e0742f5e",
   "metadata": {
    "pycharm": {
     "name": "#%%\n"
    }
   },
   "outputs": [],
   "source": [
    "df.isnull().sum()"
   ]
  },
  {
   "cell_type": "code",
   "execution_count": null,
   "id": "ab4e747d-d361-474a-b55c-8250f9bb4be7",
   "metadata": {
    "pycharm": {
     "name": "#%%\n"
    }
   },
   "outputs": [],
   "source": [
    "########################\n",
    "# Date Features\n",
    "########################\n",
    "\n",
    "\n",
    "def create_date_features(df):\n",
    "    df['month'] = df.timestamp.dt.month\n",
    "    df['day_of_month'] = df.timestamp.dt.day\n",
    "    df['day_of_year'] = df.timestamp.dt.dayofyear\n",
    "    df['week_of_year'] = df.timestamp.dt.weekofyear\n",
    "    df['day_of_week'] = df.timestamp.dt.dayofweek\n",
    "    df['year'] = df.timestamp.dt.year\n",
    "    df[\"is_wknd\"] = df.timestamp.dt.weekday // 4\n",
    "    df['is_month_start'] = df.timestamp.dt.is_month_start.astype(int)\n",
    "    df['is_month_end'] = df.timestamp.dt.is_month_end.astype(int)\n",
    "    return df\n",
    "\n",
    "\n",
    "\n"
   ]
  },
  {
   "cell_type": "code",
   "execution_count": null,
   "id": "2084725b-2df0-483d-9adb-b22ff4b12899",
   "metadata": {
    "pycharm": {
     "name": "#%%\n"
    }
   },
   "outputs": [],
   "source": [
    "df['timestamp'] = df['timestamp'].astype('datetime64[ns]')"
   ]
  },
  {
   "cell_type": "code",
   "execution_count": null,
   "id": "57d5b288-cd16-46c2-8ce2-ec4da19888f5",
   "metadata": {
    "pycharm": {
     "name": "#%%\n"
    }
   },
   "outputs": [],
   "source": [
    "df = create_date_features(df)"
   ]
  },
  {
   "cell_type": "code",
   "execution_count": null,
   "id": "28c84641-9fcc-4eab-9f3c-2d78edd6c6a5",
   "metadata": {
    "pycharm": {
     "name": "#%%\n"
    }
   },
   "outputs": [],
   "source": [
    "df.head()"
   ]
  },
  {
   "cell_type": "code",
   "execution_count": null,
   "id": "d4fa9119-9bbc-42c0-a092-cd7517a8099d",
   "metadata": {
    "pycharm": {
     "name": "#%%\n"
    }
   },
   "outputs": [],
   "source": [
    "df.groupby([\"municipality_id\", \"total_capacity\", \"month\"]).agg({\"usage\": [\"sum\", \"mean\", \"median\", \"std\"]})"
   ]
  },
  {
   "cell_type": "code",
   "execution_count": null,
   "id": "7d21c152-7ec9-4385-9d38-f997276936b0",
   "metadata": {
    "pycharm": {
     "name": "#%%\n"
    }
   },
   "outputs": [],
   "source": [
    "########################\n",
    "# Random Noise\n",
    "########################\n",
    "\n",
    "def random_noise(dataframe):\n",
    "    return np.random.normal(scale=1.6, size=(len(dataframe),))\n"
   ]
  },
  {
   "cell_type": "code",
   "execution_count": null,
   "id": "844fbc6d-7708-4b55-8d3d-cab7771307b0",
   "metadata": {
    "pycharm": {
     "name": "#%%\n"
    }
   },
   "outputs": [],
   "source": [
    "########################\n",
    "# Lag/Shifted Features\n",
    "########################\n",
    "\n",
    "\n",
    "df.sort_values(by=['municipality_id', 'usage', 'timestamp'], axis=0, inplace=True)\n",
    "\n",
    "\n"
   ]
  },
  {
   "cell_type": "code",
   "execution_count": null,
   "id": "fea521cf-6b0c-4dce-acd7-4a6ec372093a",
   "metadata": {
    "pycharm": {
     "name": "#%%\n"
    }
   },
   "outputs": [],
   "source": [
    "check_df(df)"
   ]
  },
  {
   "cell_type": "code",
   "execution_count": null,
   "id": "25463f50-9278-4016-9b0f-c66334f8e3d9",
   "metadata": {
    "pycharm": {
     "name": "#%%\n"
    }
   },
   "outputs": [],
   "source": [
    "def lag_features(dataframe, lags):\n",
    "    for lag in lags:\n",
    "        dataframe['sales_lag_' + str(lag)] = dataframe.groupby([\"municipality_id\", \"total_capacity\"])['usage'].transform(\n",
    "            lambda x: x.shift(lag)) + random_noise(dataframe)\n",
    "    return dataframe\n",
    "\n",
    "\n",
    "df = lag_features(df, [7, 14, 21, 28])\n",
    "\n"
   ]
  },
  {
   "cell_type": "code",
   "execution_count": null,
   "id": "bfc42337-2f43-4eb3-8485-9a2143ff28df",
   "metadata": {
    "pycharm": {
     "name": "#%%\n"
    }
   },
   "outputs": [],
   "source": [
    "########################\n",
    "# Rolling Mean Features\n",
    "########################\n",
    "\n",
    "def roll_mean_features(dataframe, windows):\n",
    "    for window in windows:\n",
    "        dataframe['sales_roll_mean_' + str(window)] = dataframe.groupby([\"municipality_id\", \"total_capacity\"])['usage']. \\\n",
    "                                                          transform(\n",
    "            lambda x: x.shift(1).rolling(window=window, min_periods=10, win_type=\"triang\").mean()) + random_noise(\n",
    "            dataframe)\n",
    "    return dataframe\n"
   ]
  },
  {
   "cell_type": "code",
   "execution_count": null,
   "id": "afb66b55-60be-4af0-9d4b-ad664257f8a7",
   "metadata": {
    "pycharm": {
     "name": "#%%\n"
    }
   },
   "outputs": [],
   "source": [
    "df = roll_mean_features(df, [14,21])\n",
    "df.tail()"
   ]
  },
  {
   "cell_type": "code",
   "execution_count": null,
   "id": "bd200be8-dc23-4085-a310-40c85aa50d8f",
   "metadata": {
    "pycharm": {
     "name": "#%%\n"
    }
   },
   "outputs": [],
   "source": [
    "########################\n",
    "# Exponentially Weighted Mean Features\n",
    "########################\n",
    "\n",
    "def ewm_features(dataframe, alphas, lags):\n",
    "    for alpha in alphas:\n",
    "        for lag in lags:\n",
    "            dataframe['sales_ewm_alpha_' + str(alpha).replace(\".\", \"\") + \"_lag_\" + str(lag)] = \\\n",
    "                dataframe.groupby([\"municipality_id\", \"total_capacity\"])['usage'].transform(lambda x: x.shift(lag).ewm(alpha=alpha).mean())\n",
    "    return dataframe\n",
    "\n",
    "alphas = [0.95, 0.9, 0.8, 0.7, 0.5]\n",
    "lags = [7, 14, 21, 28]\n",
    "\n"
   ]
  },
  {
   "cell_type": "code",
   "execution_count": null,
   "id": "1e7ad4a7-b7fc-4fb7-86c6-bb6f98e302d3",
   "metadata": {
    "pycharm": {
     "name": "#%%\n"
    }
   },
   "outputs": [],
   "source": [
    "df = ewm_features(df, alphas, lags)"
   ]
  },
  {
   "cell_type": "code",
   "execution_count": null,
   "id": "7d51ae97-36b4-4dc2-b8cb-341426cb09ae",
   "metadata": {
    "pycharm": {
     "name": "#%%\n"
    }
   },
   "outputs": [],
   "source": [
    "########################\n",
    "# One-Hot Encoding\n",
    "########################\n",
    "\n",
    "df = pd.get_dummies(df, columns=['municipality_id', 'total_capacity', 'day_of_week', 'month'])"
   ]
  },
  {
   "cell_type": "code",
   "execution_count": null,
   "id": "da2bea4c-0e6e-47ad-89d8-f55f9a76f98f",
   "metadata": {
    "pycharm": {
     "name": "#%%\n"
    }
   },
   "outputs": [],
   "source": [
    "########################\n",
    "# Converting usage to log(1+sales)\n",
    "########################\n",
    "\n",
    "df['usage'] = np.log1p(df[\"usage\"].values)\n",
    "\n"
   ]
  },
  {
   "cell_type": "code",
   "execution_count": 51,
   "id": "39ed8560-5153-4f2f-80dd-529f09669233",
   "metadata": {
    "pycharm": {
     "name": "#%%\n"
    }
   },
   "outputs": [],
   "source": [
    "#####################################################\n",
    "# Model\n",
    "#####################################################\n",
    "\n",
    "########################\n",
    "# Custom Cost Function\n",
    "########################\n",
    "\n",
    "# MAE: mean absolute error\n",
    "# MAPE: mean absolute percentage error\n",
    "# SMAPE: Symmetric mean absolute percentage error (adjusted MAPE)\n",
    "\n",
    "def smape(preds, target):\n",
    "    n = len(preds)\n",
    "    masked_arr = ~((preds == 0) & (target == 0))\n",
    "    preds, target = preds[masked_arr], target[masked_arr]\n",
    "    num = np.abs(preds - target)\n",
    "    denom = np.abs(preds) + np.abs(target)\n",
    "    smape_val = (200 * np.sum(num / denom)) / n\n",
    "    return smape_val\n",
    "\n",
    "def lgbm_smape(preds, train_data):\n",
    "    labels = train_data.get_label()\n",
    "    smape_val = smape(np.expm1(preds), np.expm1(labels))\n",
    "    return 'SMAPE', smape_val, False"
   ]
  },
  {
   "cell_type": "code",
   "execution_count": 52,
   "id": "af5c23f7-f5a3-4e48-8d13-f6171cbffe61",
   "metadata": {
    "pycharm": {
     "name": "#%%\n"
    }
   },
   "outputs": [],
   "source": [
    "########################\n",
    "# Time-Based Validation Sets\n",
    "########################\n",
    "\n"
   ]
  },
  {
   "cell_type": "code",
   "execution_count": 53,
   "id": "2ecfad66-2f3f-46f8-a0c6-462c63a5c6c6",
   "metadata": {
    "pycharm": {
     "name": "#%%\n"
    }
   },
   "outputs": [
    {
     "data": {
      "text/html": [
       "<div>\n",
       "<style scoped>\n",
       "    .dataframe tbody tr th:only-of-type {\n",
       "        vertical-align: middle;\n",
       "    }\n",
       "\n",
       "    .dataframe tbody tr th {\n",
       "        vertical-align: top;\n",
       "    }\n",
       "\n",
       "    .dataframe thead th {\n",
       "        text-align: right;\n",
       "    }\n",
       "</style>\n",
       "<table border=\"1\" class=\"dataframe\">\n",
       "  <thead>\n",
       "    <tr style=\"text-align: right;\">\n",
       "      <th></th>\n",
       "      <th>timestamp</th>\n",
       "      <th>usage</th>\n",
       "      <th>day_of_month</th>\n",
       "      <th>day_of_year</th>\n",
       "      <th>week_of_year</th>\n",
       "      <th>year</th>\n",
       "      <th>is_wknd</th>\n",
       "      <th>is_month_start</th>\n",
       "      <th>is_month_end</th>\n",
       "      <th>sales_lag_7</th>\n",
       "      <th>sales_lag_14</th>\n",
       "      <th>sales_lag_21</th>\n",
       "      <th>sales_lag_28</th>\n",
       "      <th>sales_roll_mean_14</th>\n",
       "      <th>sales_roll_mean_21</th>\n",
       "      <th>sales_ewm_alpha_095_lag_7</th>\n",
       "      <th>sales_ewm_alpha_095_lag_14</th>\n",
       "      <th>sales_ewm_alpha_095_lag_21</th>\n",
       "      <th>sales_ewm_alpha_095_lag_28</th>\n",
       "      <th>sales_ewm_alpha_09_lag_7</th>\n",
       "      <th>sales_ewm_alpha_09_lag_14</th>\n",
       "      <th>sales_ewm_alpha_09_lag_21</th>\n",
       "      <th>sales_ewm_alpha_09_lag_28</th>\n",
       "      <th>sales_ewm_alpha_08_lag_7</th>\n",
       "      <th>sales_ewm_alpha_08_lag_14</th>\n",
       "      <th>sales_ewm_alpha_08_lag_21</th>\n",
       "      <th>sales_ewm_alpha_08_lag_28</th>\n",
       "      <th>sales_ewm_alpha_07_lag_7</th>\n",
       "      <th>sales_ewm_alpha_07_lag_14</th>\n",
       "      <th>sales_ewm_alpha_07_lag_21</th>\n",
       "      <th>sales_ewm_alpha_07_lag_28</th>\n",
       "      <th>sales_ewm_alpha_05_lag_7</th>\n",
       "      <th>sales_ewm_alpha_05_lag_14</th>\n",
       "      <th>sales_ewm_alpha_05_lag_21</th>\n",
       "      <th>sales_ewm_alpha_05_lag_28</th>\n",
       "      <th>municipality_id_0</th>\n",
       "      <th>municipality_id_1</th>\n",
       "      <th>municipality_id_2</th>\n",
       "      <th>municipality_id_3</th>\n",
       "      <th>municipality_id_4</th>\n",
       "      <th>municipality_id_5</th>\n",
       "      <th>municipality_id_6</th>\n",
       "      <th>municipality_id_7</th>\n",
       "      <th>municipality_id_8</th>\n",
       "      <th>municipality_id_9</th>\n",
       "      <th>total_capacity_397</th>\n",
       "      <th>total_capacity_587</th>\n",
       "      <th>total_capacity_697</th>\n",
       "      <th>total_capacity_1332</th>\n",
       "      <th>total_capacity_1930</th>\n",
       "      <th>total_capacity_2019</th>\n",
       "      <th>total_capacity_2813</th>\n",
       "      <th>total_capacity_2947</th>\n",
       "      <th>total_capacity_3113</th>\n",
       "      <th>total_capacity_3893</th>\n",
       "      <th>day_of_week_0</th>\n",
       "      <th>day_of_week_1</th>\n",
       "      <th>day_of_week_2</th>\n",
       "      <th>day_of_week_3</th>\n",
       "      <th>day_of_week_4</th>\n",
       "      <th>day_of_week_5</th>\n",
       "      <th>day_of_week_6</th>\n",
       "      <th>month_6</th>\n",
       "      <th>month_7</th>\n",
       "      <th>month_8</th>\n",
       "    </tr>\n",
       "  </thead>\n",
       "  <tbody>\n",
       "    <tr>\n",
       "      <th>5370</th>\n",
       "      <td>2017-07-05 08:00:35</td>\n",
       "      <td>4.110874</td>\n",
       "      <td>5</td>\n",
       "      <td>186</td>\n",
       "      <td>27</td>\n",
       "      <td>2017</td>\n",
       "      <td>0</td>\n",
       "      <td>0</td>\n",
       "      <td>0</td>\n",
       "      <td>NaN</td>\n",
       "      <td>NaN</td>\n",
       "      <td>NaN</td>\n",
       "      <td>NaN</td>\n",
       "      <td>NaN</td>\n",
       "      <td>NaN</td>\n",
       "      <td>NaN</td>\n",
       "      <td>NaN</td>\n",
       "      <td>NaN</td>\n",
       "      <td>NaN</td>\n",
       "      <td>NaN</td>\n",
       "      <td>NaN</td>\n",
       "      <td>NaN</td>\n",
       "      <td>NaN</td>\n",
       "      <td>NaN</td>\n",
       "      <td>NaN</td>\n",
       "      <td>NaN</td>\n",
       "      <td>NaN</td>\n",
       "      <td>NaN</td>\n",
       "      <td>NaN</td>\n",
       "      <td>NaN</td>\n",
       "      <td>NaN</td>\n",
       "      <td>NaN</td>\n",
       "      <td>NaN</td>\n",
       "      <td>NaN</td>\n",
       "      <td>NaN</td>\n",
       "      <td>1</td>\n",
       "      <td>0</td>\n",
       "      <td>0</td>\n",
       "      <td>0</td>\n",
       "      <td>0</td>\n",
       "      <td>0</td>\n",
       "      <td>0</td>\n",
       "      <td>0</td>\n",
       "      <td>0</td>\n",
       "      <td>0</td>\n",
       "      <td>0</td>\n",
       "      <td>0</td>\n",
       "      <td>0</td>\n",
       "      <td>0</td>\n",
       "      <td>0</td>\n",
       "      <td>0</td>\n",
       "      <td>1</td>\n",
       "      <td>0</td>\n",
       "      <td>0</td>\n",
       "      <td>0</td>\n",
       "      <td>0</td>\n",
       "      <td>0</td>\n",
       "      <td>1</td>\n",
       "      <td>0</td>\n",
       "      <td>0</td>\n",
       "      <td>0</td>\n",
       "      <td>0</td>\n",
       "      <td>0</td>\n",
       "      <td>1</td>\n",
       "      <td>0</td>\n",
       "    </tr>\n",
       "    <tr>\n",
       "      <th>5550</th>\n",
       "      <td>2017-07-06 08:00:42</td>\n",
       "      <td>4.234107</td>\n",
       "      <td>6</td>\n",
       "      <td>187</td>\n",
       "      <td>27</td>\n",
       "      <td>2017</td>\n",
       "      <td>0</td>\n",
       "      <td>0</td>\n",
       "      <td>0</td>\n",
       "      <td>NaN</td>\n",
       "      <td>NaN</td>\n",
       "      <td>NaN</td>\n",
       "      <td>NaN</td>\n",
       "      <td>NaN</td>\n",
       "      <td>NaN</td>\n",
       "      <td>NaN</td>\n",
       "      <td>NaN</td>\n",
       "      <td>NaN</td>\n",
       "      <td>NaN</td>\n",
       "      <td>NaN</td>\n",
       "      <td>NaN</td>\n",
       "      <td>NaN</td>\n",
       "      <td>NaN</td>\n",
       "      <td>NaN</td>\n",
       "      <td>NaN</td>\n",
       "      <td>NaN</td>\n",
       "      <td>NaN</td>\n",
       "      <td>NaN</td>\n",
       "      <td>NaN</td>\n",
       "      <td>NaN</td>\n",
       "      <td>NaN</td>\n",
       "      <td>NaN</td>\n",
       "      <td>NaN</td>\n",
       "      <td>NaN</td>\n",
       "      <td>NaN</td>\n",
       "      <td>1</td>\n",
       "      <td>0</td>\n",
       "      <td>0</td>\n",
       "      <td>0</td>\n",
       "      <td>0</td>\n",
       "      <td>0</td>\n",
       "      <td>0</td>\n",
       "      <td>0</td>\n",
       "      <td>0</td>\n",
       "      <td>0</td>\n",
       "      <td>0</td>\n",
       "      <td>0</td>\n",
       "      <td>0</td>\n",
       "      <td>0</td>\n",
       "      <td>0</td>\n",
       "      <td>0</td>\n",
       "      <td>1</td>\n",
       "      <td>0</td>\n",
       "      <td>0</td>\n",
       "      <td>0</td>\n",
       "      <td>0</td>\n",
       "      <td>0</td>\n",
       "      <td>0</td>\n",
       "      <td>1</td>\n",
       "      <td>0</td>\n",
       "      <td>0</td>\n",
       "      <td>0</td>\n",
       "      <td>0</td>\n",
       "      <td>1</td>\n",
       "      <td>0</td>\n",
       "    </tr>\n",
       "    <tr>\n",
       "      <th>5381</th>\n",
       "      <td>2017-07-05 08:26:35</td>\n",
       "      <td>4.262680</td>\n",
       "      <td>5</td>\n",
       "      <td>186</td>\n",
       "      <td>27</td>\n",
       "      <td>2017</td>\n",
       "      <td>0</td>\n",
       "      <td>0</td>\n",
       "      <td>0</td>\n",
       "      <td>NaN</td>\n",
       "      <td>NaN</td>\n",
       "      <td>NaN</td>\n",
       "      <td>NaN</td>\n",
       "      <td>NaN</td>\n",
       "      <td>NaN</td>\n",
       "      <td>NaN</td>\n",
       "      <td>NaN</td>\n",
       "      <td>NaN</td>\n",
       "      <td>NaN</td>\n",
       "      <td>NaN</td>\n",
       "      <td>NaN</td>\n",
       "      <td>NaN</td>\n",
       "      <td>NaN</td>\n",
       "      <td>NaN</td>\n",
       "      <td>NaN</td>\n",
       "      <td>NaN</td>\n",
       "      <td>NaN</td>\n",
       "      <td>NaN</td>\n",
       "      <td>NaN</td>\n",
       "      <td>NaN</td>\n",
       "      <td>NaN</td>\n",
       "      <td>NaN</td>\n",
       "      <td>NaN</td>\n",
       "      <td>NaN</td>\n",
       "      <td>NaN</td>\n",
       "      <td>1</td>\n",
       "      <td>0</td>\n",
       "      <td>0</td>\n",
       "      <td>0</td>\n",
       "      <td>0</td>\n",
       "      <td>0</td>\n",
       "      <td>0</td>\n",
       "      <td>0</td>\n",
       "      <td>0</td>\n",
       "      <td>0</td>\n",
       "      <td>0</td>\n",
       "      <td>0</td>\n",
       "      <td>0</td>\n",
       "      <td>0</td>\n",
       "      <td>0</td>\n",
       "      <td>0</td>\n",
       "      <td>1</td>\n",
       "      <td>0</td>\n",
       "      <td>0</td>\n",
       "      <td>0</td>\n",
       "      <td>0</td>\n",
       "      <td>0</td>\n",
       "      <td>1</td>\n",
       "      <td>0</td>\n",
       "      <td>0</td>\n",
       "      <td>0</td>\n",
       "      <td>0</td>\n",
       "      <td>0</td>\n",
       "      <td>1</td>\n",
       "      <td>0</td>\n",
       "    </tr>\n",
       "    <tr>\n",
       "      <th>5561</th>\n",
       "      <td>2017-07-06 08:26:43</td>\n",
       "      <td>4.262680</td>\n",
       "      <td>6</td>\n",
       "      <td>187</td>\n",
       "      <td>27</td>\n",
       "      <td>2017</td>\n",
       "      <td>0</td>\n",
       "      <td>0</td>\n",
       "      <td>0</td>\n",
       "      <td>NaN</td>\n",
       "      <td>NaN</td>\n",
       "      <td>NaN</td>\n",
       "      <td>NaN</td>\n",
       "      <td>NaN</td>\n",
       "      <td>NaN</td>\n",
       "      <td>NaN</td>\n",
       "      <td>NaN</td>\n",
       "      <td>NaN</td>\n",
       "      <td>NaN</td>\n",
       "      <td>NaN</td>\n",
       "      <td>NaN</td>\n",
       "      <td>NaN</td>\n",
       "      <td>NaN</td>\n",
       "      <td>NaN</td>\n",
       "      <td>NaN</td>\n",
       "      <td>NaN</td>\n",
       "      <td>NaN</td>\n",
       "      <td>NaN</td>\n",
       "      <td>NaN</td>\n",
       "      <td>NaN</td>\n",
       "      <td>NaN</td>\n",
       "      <td>NaN</td>\n",
       "      <td>NaN</td>\n",
       "      <td>NaN</td>\n",
       "      <td>NaN</td>\n",
       "      <td>1</td>\n",
       "      <td>0</td>\n",
       "      <td>0</td>\n",
       "      <td>0</td>\n",
       "      <td>0</td>\n",
       "      <td>0</td>\n",
       "      <td>0</td>\n",
       "      <td>0</td>\n",
       "      <td>0</td>\n",
       "      <td>0</td>\n",
       "      <td>0</td>\n",
       "      <td>0</td>\n",
       "      <td>0</td>\n",
       "      <td>0</td>\n",
       "      <td>0</td>\n",
       "      <td>0</td>\n",
       "      <td>1</td>\n",
       "      <td>0</td>\n",
       "      <td>0</td>\n",
       "      <td>0</td>\n",
       "      <td>0</td>\n",
       "      <td>0</td>\n",
       "      <td>0</td>\n",
       "      <td>1</td>\n",
       "      <td>0</td>\n",
       "      <td>0</td>\n",
       "      <td>0</td>\n",
       "      <td>0</td>\n",
       "      <td>1</td>\n",
       "      <td>0</td>\n",
       "    </tr>\n",
       "    <tr>\n",
       "      <th>2888</th>\n",
       "      <td>2017-06-22 07:59:45</td>\n",
       "      <td>4.382027</td>\n",
       "      <td>22</td>\n",
       "      <td>173</td>\n",
       "      <td>25</td>\n",
       "      <td>2017</td>\n",
       "      <td>0</td>\n",
       "      <td>0</td>\n",
       "      <td>0</td>\n",
       "      <td>NaN</td>\n",
       "      <td>NaN</td>\n",
       "      <td>NaN</td>\n",
       "      <td>NaN</td>\n",
       "      <td>NaN</td>\n",
       "      <td>NaN</td>\n",
       "      <td>NaN</td>\n",
       "      <td>NaN</td>\n",
       "      <td>NaN</td>\n",
       "      <td>NaN</td>\n",
       "      <td>NaN</td>\n",
       "      <td>NaN</td>\n",
       "      <td>NaN</td>\n",
       "      <td>NaN</td>\n",
       "      <td>NaN</td>\n",
       "      <td>NaN</td>\n",
       "      <td>NaN</td>\n",
       "      <td>NaN</td>\n",
       "      <td>NaN</td>\n",
       "      <td>NaN</td>\n",
       "      <td>NaN</td>\n",
       "      <td>NaN</td>\n",
       "      <td>NaN</td>\n",
       "      <td>NaN</td>\n",
       "      <td>NaN</td>\n",
       "      <td>NaN</td>\n",
       "      <td>1</td>\n",
       "      <td>0</td>\n",
       "      <td>0</td>\n",
       "      <td>0</td>\n",
       "      <td>0</td>\n",
       "      <td>0</td>\n",
       "      <td>0</td>\n",
       "      <td>0</td>\n",
       "      <td>0</td>\n",
       "      <td>0</td>\n",
       "      <td>0</td>\n",
       "      <td>0</td>\n",
       "      <td>0</td>\n",
       "      <td>0</td>\n",
       "      <td>0</td>\n",
       "      <td>0</td>\n",
       "      <td>1</td>\n",
       "      <td>0</td>\n",
       "      <td>0</td>\n",
       "      <td>0</td>\n",
       "      <td>0</td>\n",
       "      <td>0</td>\n",
       "      <td>0</td>\n",
       "      <td>1</td>\n",
       "      <td>0</td>\n",
       "      <td>0</td>\n",
       "      <td>0</td>\n",
       "      <td>1</td>\n",
       "      <td>0</td>\n",
       "      <td>0</td>\n",
       "    </tr>\n",
       "  </tbody>\n",
       "</table>\n",
       "</div>"
      ],
      "text/plain": [
       "               timestamp     usage  day_of_month  day_of_year  week_of_year  year  is_wknd  is_month_start  is_month_end  sales_lag_7  sales_lag_14  sales_lag_21  sales_lag_28  sales_roll_mean_14  sales_roll_mean_21  sales_ewm_alpha_095_lag_7  sales_ewm_alpha_095_lag_14  sales_ewm_alpha_095_lag_21  sales_ewm_alpha_095_lag_28  sales_ewm_alpha_09_lag_7  sales_ewm_alpha_09_lag_14  sales_ewm_alpha_09_lag_21  sales_ewm_alpha_09_lag_28  sales_ewm_alpha_08_lag_7  sales_ewm_alpha_08_lag_14  \\\n",
       "5370 2017-07-05 08:00:35  4.110874             5          186            27  2017        0               0             0          NaN           NaN           NaN           NaN                 NaN                 NaN                        NaN                         NaN                         NaN                         NaN                       NaN                        NaN                        NaN                        NaN                       NaN                        NaN   \n",
       "5550 2017-07-06 08:00:42  4.234107             6          187            27  2017        0               0             0          NaN           NaN           NaN           NaN                 NaN                 NaN                        NaN                         NaN                         NaN                         NaN                       NaN                        NaN                        NaN                        NaN                       NaN                        NaN   \n",
       "5381 2017-07-05 08:26:35  4.262680             5          186            27  2017        0               0             0          NaN           NaN           NaN           NaN                 NaN                 NaN                        NaN                         NaN                         NaN                         NaN                       NaN                        NaN                        NaN                        NaN                       NaN                        NaN   \n",
       "5561 2017-07-06 08:26:43  4.262680             6          187            27  2017        0               0             0          NaN           NaN           NaN           NaN                 NaN                 NaN                        NaN                         NaN                         NaN                         NaN                       NaN                        NaN                        NaN                        NaN                       NaN                        NaN   \n",
       "2888 2017-06-22 07:59:45  4.382027            22          173            25  2017        0               0             0          NaN           NaN           NaN           NaN                 NaN                 NaN                        NaN                         NaN                         NaN                         NaN                       NaN                        NaN                        NaN                        NaN                       NaN                        NaN   \n",
       "\n",
       "      sales_ewm_alpha_08_lag_21  sales_ewm_alpha_08_lag_28  sales_ewm_alpha_07_lag_7  sales_ewm_alpha_07_lag_14  sales_ewm_alpha_07_lag_21  sales_ewm_alpha_07_lag_28  sales_ewm_alpha_05_lag_7  sales_ewm_alpha_05_lag_14  sales_ewm_alpha_05_lag_21  sales_ewm_alpha_05_lag_28  municipality_id_0  municipality_id_1  municipality_id_2  municipality_id_3  municipality_id_4  municipality_id_5  municipality_id_6  municipality_id_7  municipality_id_8  municipality_id_9  total_capacity_397  \\\n",
       "5370                        NaN                        NaN                       NaN                        NaN                        NaN                        NaN                       NaN                        NaN                        NaN                        NaN                  1                  0                  0                  0                  0                  0                  0                  0                  0                  0                   0   \n",
       "5550                        NaN                        NaN                       NaN                        NaN                        NaN                        NaN                       NaN                        NaN                        NaN                        NaN                  1                  0                  0                  0                  0                  0                  0                  0                  0                  0                   0   \n",
       "5381                        NaN                        NaN                       NaN                        NaN                        NaN                        NaN                       NaN                        NaN                        NaN                        NaN                  1                  0                  0                  0                  0                  0                  0                  0                  0                  0                   0   \n",
       "5561                        NaN                        NaN                       NaN                        NaN                        NaN                        NaN                       NaN                        NaN                        NaN                        NaN                  1                  0                  0                  0                  0                  0                  0                  0                  0                  0                   0   \n",
       "2888                        NaN                        NaN                       NaN                        NaN                        NaN                        NaN                       NaN                        NaN                        NaN                        NaN                  1                  0                  0                  0                  0                  0                  0                  0                  0                  0                   0   \n",
       "\n",
       "      total_capacity_587  total_capacity_697  total_capacity_1332  total_capacity_1930  total_capacity_2019  total_capacity_2813  total_capacity_2947  total_capacity_3113  total_capacity_3893  day_of_week_0  day_of_week_1  day_of_week_2  day_of_week_3  day_of_week_4  day_of_week_5  day_of_week_6  month_6  month_7  month_8  \n",
       "5370                   0                   0                    0                    0                    0                    1                    0                    0                    0              0              0              1              0              0              0              0        0        1        0  \n",
       "5550                   0                   0                    0                    0                    0                    1                    0                    0                    0              0              0              0              1              0              0              0        0        1        0  \n",
       "5381                   0                   0                    0                    0                    0                    1                    0                    0                    0              0              0              1              0              0              0              0        0        1        0  \n",
       "5561                   0                   0                    0                    0                    0                    1                    0                    0                    0              0              0              0              1              0              0              0        0        1        0  \n",
       "2888                   0                   0                    0                    0                    0                    1                    0                    0                    0              0              0              0              1              0              0              0        1        0        0  "
      ]
     },
     "execution_count": 53,
     "metadata": {},
     "output_type": "execute_result"
    }
   ],
   "source": []
  },
  {
   "cell_type": "code",
   "execution_count": 57,
   "id": "2a44fae3-34ae-47f4-bea5-e7dead20db53",
   "metadata": {
    "pycharm": {
     "name": "#%%\n"
    }
   },
   "outputs": [],
   "source": [
    "test=df.loc[(df[\"timestamp\"] >= \"2017-08-05\") & (df[\"timestamp\"] < \"2017-08-20\"), :]"
   ]
  },
  {
   "cell_type": "code",
   "execution_count": 58,
   "id": "072d4273-72bc-4f7a-a944-263c445ffb38",
   "metadata": {
    "pycharm": {
     "name": "#%%\n"
    }
   },
   "outputs": [],
   "source": [
    "train= df.loc[(df[\"timestamp\"] < \"2017-08-05\"), :]"
   ]
  },
  {
   "cell_type": "code",
   "execution_count": 59,
   "id": "e1e8d1dc-3b51-4bff-a3fd-8a52bafef48d",
   "metadata": {
    "pycharm": {
     "name": "#%%\n"
    }
   },
   "outputs": [],
   "source": [
    "val = df.loc[(df[\"timestamp\"] >= \"2017-07-29\") & (df[\"timestamp\"] < \"2017-08-5\"), :]\n"
   ]
  },
  {
   "cell_type": "code",
   "execution_count": null,
   "id": "43f4e57a-9338-46a4-b559-a5955ef6e42c",
   "metadata": {
    "pycharm": {
     "name": "#%%\n"
    }
   },
   "outputs": [],
   "source": []
  },
  {
   "cell_type": "code",
   "execution_count": 60,
   "id": "616b5d95-653b-4178-a40a-47d1d97a2b96",
   "metadata": {
    "pycharm": {
     "name": "#%%\n"
    }
   },
   "outputs": [],
   "source": [
    "cols = [col for col in train.columns if col not in ['timestamp', 'usage', \"municipality_id\", \"total_capacity\"]]"
   ]
  },
  {
   "cell_type": "code",
   "execution_count": 61,
   "id": "6af0abdd-0de5-4572-8380-17e236215e6c",
   "metadata": {
    "pycharm": {
     "name": "#%%\n"
    }
   },
   "outputs": [
    {
     "data": {
      "text/plain": [
       "((10390,), (10390, 63), (720,), (720, 63))"
      ]
     },
     "execution_count": 61,
     "metadata": {},
     "output_type": "execute_result"
    }
   ],
   "source": [
    "Y_train = train['usage']\n",
    "X_train = train[cols]\n",
    "\n",
    "Y_val = val['usage']\n",
    "X_val = val[cols]\n",
    "\n",
    "Y_train.shape, X_train.shape, Y_val.shape, X_val.shape"
   ]
  },
  {
   "cell_type": "code",
   "execution_count": 62,
   "id": "43676adb-246b-4a7a-b2d8-4a0bfed9ca5c",
   "metadata": {
    "pycharm": {
     "name": "#%%\n"
    }
   },
   "outputs": [],
   "source": [
    "########################\n",
    "# LightGBM Model\n",
    "########################\n",
    "\n",
    "# LightGBM parameters\n",
    "lgb_params = {'metric': {'mae'},\n",
    "              'num_leaves': 10,\n",
    "              'learning_rate': 0.02,\n",
    "              'feature_fraction': 0.8,\n",
    "              'max_depth': 5,\n",
    "              'verbose': 0,\n",
    "              'num_boost_round': 1000,\n",
    "              'early_stopping_rounds': 200,\n",
    "              'nthread': -1}"
   ]
  },
  {
   "cell_type": "code",
   "execution_count": 63,
   "id": "5ebb3c46-68c2-485f-b901-8de76c9e4a8a",
   "metadata": {
    "pycharm": {
     "name": "#%%\n"
    }
   },
   "outputs": [
    {
     "data": {
      "text/html": [
       "<div>\n",
       "<style scoped>\n",
       "    .dataframe tbody tr th:only-of-type {\n",
       "        vertical-align: middle;\n",
       "    }\n",
       "\n",
       "    .dataframe tbody tr th {\n",
       "        vertical-align: top;\n",
       "    }\n",
       "\n",
       "    .dataframe thead th {\n",
       "        text-align: right;\n",
       "    }\n",
       "</style>\n",
       "<table border=\"1\" class=\"dataframe\">\n",
       "  <thead>\n",
       "    <tr style=\"text-align: right;\">\n",
       "      <th></th>\n",
       "      <th>timestamp</th>\n",
       "      <th>usage</th>\n",
       "      <th>day_of_month</th>\n",
       "      <th>day_of_year</th>\n",
       "      <th>week_of_year</th>\n",
       "      <th>year</th>\n",
       "      <th>is_wknd</th>\n",
       "      <th>is_month_start</th>\n",
       "      <th>is_month_end</th>\n",
       "      <th>sales_lag_7</th>\n",
       "      <th>sales_lag_14</th>\n",
       "      <th>sales_lag_21</th>\n",
       "      <th>sales_lag_28</th>\n",
       "      <th>sales_roll_mean_14</th>\n",
       "      <th>sales_roll_mean_21</th>\n",
       "      <th>sales_ewm_alpha_095_lag_7</th>\n",
       "      <th>sales_ewm_alpha_095_lag_14</th>\n",
       "      <th>sales_ewm_alpha_095_lag_21</th>\n",
       "      <th>sales_ewm_alpha_095_lag_28</th>\n",
       "      <th>sales_ewm_alpha_09_lag_7</th>\n",
       "      <th>sales_ewm_alpha_09_lag_14</th>\n",
       "      <th>sales_ewm_alpha_09_lag_21</th>\n",
       "      <th>sales_ewm_alpha_09_lag_28</th>\n",
       "      <th>sales_ewm_alpha_08_lag_7</th>\n",
       "      <th>sales_ewm_alpha_08_lag_14</th>\n",
       "      <th>sales_ewm_alpha_08_lag_21</th>\n",
       "      <th>sales_ewm_alpha_08_lag_28</th>\n",
       "      <th>sales_ewm_alpha_07_lag_7</th>\n",
       "      <th>sales_ewm_alpha_07_lag_14</th>\n",
       "      <th>sales_ewm_alpha_07_lag_21</th>\n",
       "      <th>sales_ewm_alpha_07_lag_28</th>\n",
       "      <th>sales_ewm_alpha_05_lag_7</th>\n",
       "      <th>sales_ewm_alpha_05_lag_14</th>\n",
       "      <th>sales_ewm_alpha_05_lag_21</th>\n",
       "      <th>sales_ewm_alpha_05_lag_28</th>\n",
       "      <th>municipality_id_0</th>\n",
       "      <th>municipality_id_1</th>\n",
       "      <th>municipality_id_2</th>\n",
       "      <th>municipality_id_3</th>\n",
       "      <th>municipality_id_4</th>\n",
       "      <th>municipality_id_5</th>\n",
       "      <th>municipality_id_6</th>\n",
       "      <th>municipality_id_7</th>\n",
       "      <th>municipality_id_8</th>\n",
       "      <th>municipality_id_9</th>\n",
       "      <th>total_capacity_397</th>\n",
       "      <th>total_capacity_587</th>\n",
       "      <th>total_capacity_697</th>\n",
       "      <th>total_capacity_1332</th>\n",
       "      <th>total_capacity_1930</th>\n",
       "      <th>total_capacity_2019</th>\n",
       "      <th>total_capacity_2813</th>\n",
       "      <th>total_capacity_2947</th>\n",
       "      <th>total_capacity_3113</th>\n",
       "      <th>total_capacity_3893</th>\n",
       "      <th>day_of_week_0</th>\n",
       "      <th>day_of_week_1</th>\n",
       "      <th>day_of_week_2</th>\n",
       "      <th>day_of_week_3</th>\n",
       "      <th>day_of_week_4</th>\n",
       "      <th>day_of_week_5</th>\n",
       "      <th>day_of_week_6</th>\n",
       "      <th>month_6</th>\n",
       "      <th>month_7</th>\n",
       "      <th>month_8</th>\n",
       "    </tr>\n",
       "  </thead>\n",
       "  <tbody>\n",
       "    <tr>\n",
       "      <th>10398</th>\n",
       "      <td>2017-08-05 08:02:03</td>\n",
       "      <td>5.347108</td>\n",
       "      <td>5</td>\n",
       "      <td>217</td>\n",
       "      <td>31</td>\n",
       "      <td>2017</td>\n",
       "      <td>1</td>\n",
       "      <td>0</td>\n",
       "      <td>0</td>\n",
       "      <td>206.671009</td>\n",
       "      <td>200.356748</td>\n",
       "      <td>186.389602</td>\n",
       "      <td>182.301842</td>\n",
       "      <td>206.375780</td>\n",
       "      <td>201.978092</td>\n",
       "      <td>204.949618</td>\n",
       "      <td>197.997244</td>\n",
       "      <td>188.847375</td>\n",
       "      <td>181.899356</td>\n",
       "      <td>204.896880</td>\n",
       "      <td>197.987898</td>\n",
       "      <td>188.688989</td>\n",
       "      <td>181.794680</td>\n",
       "      <td>204.773759</td>\n",
       "      <td>197.942225</td>\n",
       "      <td>188.351610</td>\n",
       "      <td>181.554530</td>\n",
       "      <td>204.606006</td>\n",
       "      <td>197.845563</td>\n",
       "      <td>187.979674</td>\n",
       "      <td>181.235268</td>\n",
       "      <td>203.995060</td>\n",
       "      <td>197.367682</td>\n",
       "      <td>187.063257</td>\n",
       "      <td>180.096926</td>\n",
       "      <td>1</td>\n",
       "      <td>0</td>\n",
       "      <td>0</td>\n",
       "      <td>0</td>\n",
       "      <td>0</td>\n",
       "      <td>0</td>\n",
       "      <td>0</td>\n",
       "      <td>0</td>\n",
       "      <td>0</td>\n",
       "      <td>0</td>\n",
       "      <td>0</td>\n",
       "      <td>0</td>\n",
       "      <td>0</td>\n",
       "      <td>0</td>\n",
       "      <td>0</td>\n",
       "      <td>0</td>\n",
       "      <td>1</td>\n",
       "      <td>0</td>\n",
       "      <td>0</td>\n",
       "      <td>0</td>\n",
       "      <td>0</td>\n",
       "      <td>0</td>\n",
       "      <td>0</td>\n",
       "      <td>0</td>\n",
       "      <td>0</td>\n",
       "      <td>1</td>\n",
       "      <td>0</td>\n",
       "      <td>0</td>\n",
       "      <td>0</td>\n",
       "      <td>1</td>\n",
       "    </tr>\n",
       "    <tr>\n",
       "      <th>12358</th>\n",
       "      <td>2017-08-16 07:59:09</td>\n",
       "      <td>5.429346</td>\n",
       "      <td>16</td>\n",
       "      <td>228</td>\n",
       "      <td>33</td>\n",
       "      <td>2017</td>\n",
       "      <td>0</td>\n",
       "      <td>0</td>\n",
       "      <td>0</td>\n",
       "      <td>217.165760</td>\n",
       "      <td>209.519254</td>\n",
       "      <td>201.694566</td>\n",
       "      <td>198.098943</td>\n",
       "      <td>213.616379</td>\n",
       "      <td>210.596658</td>\n",
       "      <td>216.892493</td>\n",
       "      <td>207.949875</td>\n",
       "      <td>203.847250</td>\n",
       "      <td>196.897487</td>\n",
       "      <td>216.769879</td>\n",
       "      <td>207.898989</td>\n",
       "      <td>203.688000</td>\n",
       "      <td>196.789767</td>\n",
       "      <td>216.477693</td>\n",
       "      <td>207.791608</td>\n",
       "      <td>203.343982</td>\n",
       "      <td>196.555633</td>\n",
       "      <td>216.116239</td>\n",
       "      <td>207.669613</td>\n",
       "      <td>202.955625</td>\n",
       "      <td>196.284031</td>\n",
       "      <td>215.104003</td>\n",
       "      <td>207.312346</td>\n",
       "      <td>201.980240</td>\n",
       "      <td>195.470727</td>\n",
       "      <td>1</td>\n",
       "      <td>0</td>\n",
       "      <td>0</td>\n",
       "      <td>0</td>\n",
       "      <td>0</td>\n",
       "      <td>0</td>\n",
       "      <td>0</td>\n",
       "      <td>0</td>\n",
       "      <td>0</td>\n",
       "      <td>0</td>\n",
       "      <td>0</td>\n",
       "      <td>0</td>\n",
       "      <td>0</td>\n",
       "      <td>0</td>\n",
       "      <td>0</td>\n",
       "      <td>0</td>\n",
       "      <td>1</td>\n",
       "      <td>0</td>\n",
       "      <td>0</td>\n",
       "      <td>0</td>\n",
       "      <td>0</td>\n",
       "      <td>0</td>\n",
       "      <td>1</td>\n",
       "      <td>0</td>\n",
       "      <td>0</td>\n",
       "      <td>0</td>\n",
       "      <td>0</td>\n",
       "      <td>0</td>\n",
       "      <td>0</td>\n",
       "      <td>1</td>\n",
       "    </tr>\n",
       "    <tr>\n",
       "      <th>11659</th>\n",
       "      <td>2017-08-12 08:02:45</td>\n",
       "      <td>5.433722</td>\n",
       "      <td>12</td>\n",
       "      <td>224</td>\n",
       "      <td>32</td>\n",
       "      <td>2017</td>\n",
       "      <td>1</td>\n",
       "      <td>0</td>\n",
       "      <td>0</td>\n",
       "      <td>224.186052</td>\n",
       "      <td>211.232330</td>\n",
       "      <td>207.712284</td>\n",
       "      <td>197.170188</td>\n",
       "      <td>219.594642</td>\n",
       "      <td>218.993843</td>\n",
       "      <td>224.749862</td>\n",
       "      <td>211.944875</td>\n",
       "      <td>205.997374</td>\n",
       "      <td>197.999993</td>\n",
       "      <td>224.498777</td>\n",
       "      <td>211.878990</td>\n",
       "      <td>205.988969</td>\n",
       "      <td>197.999879</td>\n",
       "      <td>223.987964</td>\n",
       "      <td>211.711667</td>\n",
       "      <td>205.950950</td>\n",
       "      <td>197.997689</td>\n",
       "      <td>223.449642</td>\n",
       "      <td>211.490324</td>\n",
       "      <td>205.874541</td>\n",
       "      <td>197.986101</td>\n",
       "      <td>222.131500</td>\n",
       "      <td>210.832022</td>\n",
       "      <td>205.498765</td>\n",
       "      <td>197.841920</td>\n",
       "      <td>1</td>\n",
       "      <td>0</td>\n",
       "      <td>0</td>\n",
       "      <td>0</td>\n",
       "      <td>0</td>\n",
       "      <td>0</td>\n",
       "      <td>0</td>\n",
       "      <td>0</td>\n",
       "      <td>0</td>\n",
       "      <td>0</td>\n",
       "      <td>0</td>\n",
       "      <td>0</td>\n",
       "      <td>0</td>\n",
       "      <td>0</td>\n",
       "      <td>0</td>\n",
       "      <td>0</td>\n",
       "      <td>1</td>\n",
       "      <td>0</td>\n",
       "      <td>0</td>\n",
       "      <td>0</td>\n",
       "      <td>0</td>\n",
       "      <td>0</td>\n",
       "      <td>0</td>\n",
       "      <td>0</td>\n",
       "      <td>0</td>\n",
       "      <td>1</td>\n",
       "      <td>0</td>\n",
       "      <td>0</td>\n",
       "      <td>0</td>\n",
       "      <td>1</td>\n",
       "    </tr>\n",
       "    <tr>\n",
       "      <th>12176</th>\n",
       "      <td>2017-08-15 07:57:02</td>\n",
       "      <td>5.438079</td>\n",
       "      <td>15</td>\n",
       "      <td>227</td>\n",
       "      <td>33</td>\n",
       "      <td>2017</td>\n",
       "      <td>0</td>\n",
       "      <td>0</td>\n",
       "      <td>0</td>\n",
       "      <td>226.402633</td>\n",
       "      <td>215.286824</td>\n",
       "      <td>206.474593</td>\n",
       "      <td>198.259207</td>\n",
       "      <td>222.749024</td>\n",
       "      <td>216.155695</td>\n",
       "      <td>225.937493</td>\n",
       "      <td>211.997244</td>\n",
       "      <td>206.949869</td>\n",
       "      <td>199.900000</td>\n",
       "      <td>225.849878</td>\n",
       "      <td>211.987899</td>\n",
       "      <td>206.898897</td>\n",
       "      <td>199.799988</td>\n",
       "      <td>225.597593</td>\n",
       "      <td>211.942333</td>\n",
       "      <td>206.790190</td>\n",
       "      <td>199.599538</td>\n",
       "      <td>225.234892</td>\n",
       "      <td>211.847097</td>\n",
       "      <td>206.662362</td>\n",
       "      <td>199.395830</td>\n",
       "      <td>224.065750</td>\n",
       "      <td>211.416011</td>\n",
       "      <td>206.249383</td>\n",
       "      <td>198.920960</td>\n",
       "      <td>1</td>\n",
       "      <td>0</td>\n",
       "      <td>0</td>\n",
       "      <td>0</td>\n",
       "      <td>0</td>\n",
       "      <td>0</td>\n",
       "      <td>0</td>\n",
       "      <td>0</td>\n",
       "      <td>0</td>\n",
       "      <td>0</td>\n",
       "      <td>0</td>\n",
       "      <td>0</td>\n",
       "      <td>0</td>\n",
       "      <td>0</td>\n",
       "      <td>0</td>\n",
       "      <td>0</td>\n",
       "      <td>1</td>\n",
       "      <td>0</td>\n",
       "      <td>0</td>\n",
       "      <td>0</td>\n",
       "      <td>0</td>\n",
       "      <td>1</td>\n",
       "      <td>0</td>\n",
       "      <td>0</td>\n",
       "      <td>0</td>\n",
       "      <td>0</td>\n",
       "      <td>0</td>\n",
       "      <td>0</td>\n",
       "      <td>0</td>\n",
       "      <td>1</td>\n",
       "    </tr>\n",
       "    <tr>\n",
       "      <th>10936</th>\n",
       "      <td>2017-08-08 07:59:25</td>\n",
       "      <td>5.529429</td>\n",
       "      <td>8</td>\n",
       "      <td>220</td>\n",
       "      <td>32</td>\n",
       "      <td>2017</td>\n",
       "      <td>0</td>\n",
       "      <td>0</td>\n",
       "      <td>0</td>\n",
       "      <td>241.008221</td>\n",
       "      <td>228.807714</td>\n",
       "      <td>224.733321</td>\n",
       "      <td>214.278235</td>\n",
       "      <td>239.262287</td>\n",
       "      <td>235.778036</td>\n",
       "      <td>242.947218</td>\n",
       "      <td>227.999994</td>\n",
       "      <td>224.749862</td>\n",
       "      <td>211.944875</td>\n",
       "      <td>242.887468</td>\n",
       "      <td>227.999899</td>\n",
       "      <td>224.498777</td>\n",
       "      <td>211.878990</td>\n",
       "      <td>242.734899</td>\n",
       "      <td>227.998310</td>\n",
       "      <td>223.987964</td>\n",
       "      <td>211.711667</td>\n",
       "      <td>242.506531</td>\n",
       "      <td>227.990613</td>\n",
       "      <td>223.449642</td>\n",
       "      <td>211.490324</td>\n",
       "      <td>241.553841</td>\n",
       "      <td>227.891652</td>\n",
       "      <td>222.131500</td>\n",
       "      <td>210.832022</td>\n",
       "      <td>1</td>\n",
       "      <td>0</td>\n",
       "      <td>0</td>\n",
       "      <td>0</td>\n",
       "      <td>0</td>\n",
       "      <td>0</td>\n",
       "      <td>0</td>\n",
       "      <td>0</td>\n",
       "      <td>0</td>\n",
       "      <td>0</td>\n",
       "      <td>0</td>\n",
       "      <td>0</td>\n",
       "      <td>0</td>\n",
       "      <td>0</td>\n",
       "      <td>0</td>\n",
       "      <td>0</td>\n",
       "      <td>1</td>\n",
       "      <td>0</td>\n",
       "      <td>0</td>\n",
       "      <td>0</td>\n",
       "      <td>0</td>\n",
       "      <td>1</td>\n",
       "      <td>0</td>\n",
       "      <td>0</td>\n",
       "      <td>0</td>\n",
       "      <td>0</td>\n",
       "      <td>0</td>\n",
       "      <td>0</td>\n",
       "      <td>0</td>\n",
       "      <td>1</td>\n",
       "    </tr>\n",
       "  </tbody>\n",
       "</table>\n",
       "</div>"
      ],
      "text/plain": [
       "                timestamp     usage  day_of_month  day_of_year  week_of_year  year  is_wknd  is_month_start  is_month_end  sales_lag_7  sales_lag_14  sales_lag_21  sales_lag_28  sales_roll_mean_14  sales_roll_mean_21  sales_ewm_alpha_095_lag_7  sales_ewm_alpha_095_lag_14  sales_ewm_alpha_095_lag_21  sales_ewm_alpha_095_lag_28  sales_ewm_alpha_09_lag_7  sales_ewm_alpha_09_lag_14  sales_ewm_alpha_09_lag_21  sales_ewm_alpha_09_lag_28  sales_ewm_alpha_08_lag_7  sales_ewm_alpha_08_lag_14  \\\n",
       "10398 2017-08-05 08:02:03  5.347108             5          217            31  2017        1               0             0   206.671009    200.356748    186.389602    182.301842          206.375780          201.978092                 204.949618                  197.997244                  188.847375                  181.899356                204.896880                 197.987898                 188.688989                 181.794680                204.773759                 197.942225   \n",
       "12358 2017-08-16 07:59:09  5.429346            16          228            33  2017        0               0             0   217.165760    209.519254    201.694566    198.098943          213.616379          210.596658                 216.892493                  207.949875                  203.847250                  196.897487                216.769879                 207.898989                 203.688000                 196.789767                216.477693                 207.791608   \n",
       "11659 2017-08-12 08:02:45  5.433722            12          224            32  2017        1               0             0   224.186052    211.232330    207.712284    197.170188          219.594642          218.993843                 224.749862                  211.944875                  205.997374                  197.999993                224.498777                 211.878990                 205.988969                 197.999879                223.987964                 211.711667   \n",
       "12176 2017-08-15 07:57:02  5.438079            15          227            33  2017        0               0             0   226.402633    215.286824    206.474593    198.259207          222.749024          216.155695                 225.937493                  211.997244                  206.949869                  199.900000                225.849878                 211.987899                 206.898897                 199.799988                225.597593                 211.942333   \n",
       "10936 2017-08-08 07:59:25  5.529429             8          220            32  2017        0               0             0   241.008221    228.807714    224.733321    214.278235          239.262287          235.778036                 242.947218                  227.999994                  224.749862                  211.944875                242.887468                 227.999899                 224.498777                 211.878990                242.734899                 227.998310   \n",
       "\n",
       "       sales_ewm_alpha_08_lag_21  sales_ewm_alpha_08_lag_28  sales_ewm_alpha_07_lag_7  sales_ewm_alpha_07_lag_14  sales_ewm_alpha_07_lag_21  sales_ewm_alpha_07_lag_28  sales_ewm_alpha_05_lag_7  sales_ewm_alpha_05_lag_14  sales_ewm_alpha_05_lag_21  sales_ewm_alpha_05_lag_28  municipality_id_0  municipality_id_1  municipality_id_2  municipality_id_3  municipality_id_4  municipality_id_5  municipality_id_6  municipality_id_7  municipality_id_8  municipality_id_9  total_capacity_397  \\\n",
       "10398                 188.351610                 181.554530                204.606006                 197.845563                 187.979674                 181.235268                203.995060                 197.367682                 187.063257                 180.096926                  1                  0                  0                  0                  0                  0                  0                  0                  0                  0                   0   \n",
       "12358                 203.343982                 196.555633                216.116239                 207.669613                 202.955625                 196.284031                215.104003                 207.312346                 201.980240                 195.470727                  1                  0                  0                  0                  0                  0                  0                  0                  0                  0                   0   \n",
       "11659                 205.950950                 197.997689                223.449642                 211.490324                 205.874541                 197.986101                222.131500                 210.832022                 205.498765                 197.841920                  1                  0                  0                  0                  0                  0                  0                  0                  0                  0                   0   \n",
       "12176                 206.790190                 199.599538                225.234892                 211.847097                 206.662362                 199.395830                224.065750                 211.416011                 206.249383                 198.920960                  1                  0                  0                  0                  0                  0                  0                  0                  0                  0                   0   \n",
       "10936                 223.987964                 211.711667                242.506531                 227.990613                 223.449642                 211.490324                241.553841                 227.891652                 222.131500                 210.832022                  1                  0                  0                  0                  0                  0                  0                  0                  0                  0                   0   \n",
       "\n",
       "       total_capacity_587  total_capacity_697  total_capacity_1332  total_capacity_1930  total_capacity_2019  total_capacity_2813  total_capacity_2947  total_capacity_3113  total_capacity_3893  day_of_week_0  day_of_week_1  day_of_week_2  day_of_week_3  day_of_week_4  day_of_week_5  day_of_week_6  month_6  month_7  month_8  \n",
       "10398                   0                   0                    0                    0                    0                    1                    0                    0                    0              0              0              0              0              0              1              0        0        0        1  \n",
       "12358                   0                   0                    0                    0                    0                    1                    0                    0                    0              0              0              1              0              0              0              0        0        0        1  \n",
       "11659                   0                   0                    0                    0                    0                    1                    0                    0                    0              0              0              0              0              0              1              0        0        0        1  \n",
       "12176                   0                   0                    0                    0                    0                    1                    0                    0                    0              0              1              0              0              0              0              0        0        0        1  \n",
       "10936                   0                   0                    0                    0                    0                    1                    0                    0                    0              0              1              0              0              0              0              0        0        0        1  "
      ]
     },
     "execution_count": 63,
     "metadata": {},
     "output_type": "execute_result"
    }
   ],
   "source": [
    "test.head()"
   ]
  },
  {
   "cell_type": "code",
   "execution_count": 64,
   "id": "01c5c498-6812-495e-ae6e-988b90069876",
   "metadata": {
    "pycharm": {
     "name": "#%%\n"
    }
   },
   "outputs": [
    {
     "name": "stdout",
     "output_type": "stream",
     "text": [
      "[LightGBM] [Warning] Auto-choosing col-wise multi-threading, the overhead of testing was 0.003744 seconds.\n",
      "You can set `force_col_wise=true` to remove the overhead.\n",
      "Training until validation scores don't improve for 200 rounds\n",
      "[100]\ttraining's l1: 0.0922317\ttraining's SMAPE: 9.20054\tvalid_1's l1: 0.0992066\tvalid_1's SMAPE: 9.91155\n",
      "[200]\ttraining's l1: 0.0181552\ttraining's SMAPE: 1.80517\tvalid_1's l1: 0.0176123\tvalid_1's SMAPE: 1.77155\n",
      "[300]\ttraining's l1: 0.0105557\ttraining's SMAPE: 1.04975\tvalid_1's l1: 0.00791502\tvalid_1's SMAPE: 0.797452\n",
      "[400]\ttraining's l1: 0.00924188\ttraining's SMAPE: 0.92139\tvalid_1's l1: 0.00707829\tvalid_1's SMAPE: 0.713272\n",
      "[500]\ttraining's l1: 0.00873029\ttraining's SMAPE: 0.871863\tvalid_1's l1: 0.00676537\tvalid_1's SMAPE: 0.681822\n",
      "[600]\ttraining's l1: 0.00836209\ttraining's SMAPE: 0.836016\tvalid_1's l1: 0.00658013\tvalid_1's SMAPE: 0.663191\n",
      "[700]\ttraining's l1: 0.00807944\ttraining's SMAPE: 0.808527\tvalid_1's l1: 0.00635738\tvalid_1's SMAPE: 0.640836\n",
      "[800]\ttraining's l1: 0.0078402\ttraining's SMAPE: 0.785194\tvalid_1's l1: 0.00622565\tvalid_1's SMAPE: 0.627629\n",
      "[900]\ttraining's l1: 0.00764963\ttraining's SMAPE: 0.766574\tvalid_1's l1: 0.00611727\tvalid_1's SMAPE: 0.616738\n",
      "[1000]\ttraining's l1: 0.00747476\ttraining's SMAPE: 0.749412\tvalid_1's l1: 0.00602981\tvalid_1's SMAPE: 0.607939\n",
      "Did not meet early stopping. Best iteration is:\n",
      "[1000]\ttraining's l1: 0.00747476\ttraining's SMAPE: 0.749412\tvalid_1's l1: 0.00602981\tvalid_1's SMAPE: 0.607939\n"
     ]
    }
   ],
   "source": [
    "lgbtrain = lgb.Dataset(data=X_train, label=Y_train, feature_name=cols)\n",
    "lgbval = lgb.Dataset(data=X_val, label=Y_val, reference=lgbtrain, feature_name=cols)\n",
    "\n",
    "model = lgb.train(lgb_params, lgbtrain,\n",
    "                  valid_sets=[lgbtrain, lgbval],\n",
    "                  num_boost_round=lgb_params['num_boost_round'],\n",
    "                  early_stopping_rounds=lgb_params['early_stopping_rounds'],\n",
    "                  feval=lgbm_smape,\n",
    "                  verbose_eval=100)"
   ]
  },
  {
   "cell_type": "code",
   "execution_count": 65,
   "id": "799ba2d8-39f1-4eb2-9d1d-3c28b47effc0",
   "metadata": {
    "pycharm": {
     "name": "#%%\n"
    }
   },
   "outputs": [
    {
     "data": {
      "text/plain": [
       "0.6079407476172183"
      ]
     },
     "execution_count": 65,
     "metadata": {},
     "output_type": "execute_result"
    }
   ],
   "source": [
    "y_pred_val = model.predict(X_val, num_iteration=model.best_iteration)\n",
    "\n",
    "smape(np.expm1(y_pred_val), np.expm1(Y_val))"
   ]
  },
  {
   "cell_type": "code",
   "execution_count": 66,
   "id": "f17fac6a-f5d5-4943-8699-dcc24d3855ad",
   "metadata": {
    "pycharm": {
     "name": "#%%\n"
    }
   },
   "outputs": [
    {
     "name": "stdout",
     "output_type": "stream",
     "text": [
      "                       feature  split       gain\n",
      "13   sales_ewm_alpha_095_lag_7    826  47.888733\n",
      "7                  sales_lag_7   1902  28.662799\n",
      "11          sales_roll_mean_14    703   7.976230\n",
      "21    sales_ewm_alpha_08_lag_7    114   4.052611\n",
      "17    sales_ewm_alpha_09_lag_7    139   3.351165\n",
      "25    sales_ewm_alpha_07_lag_7     30   2.606012\n",
      "29    sales_ewm_alpha_05_lag_7    111   1.931549\n",
      "16  sales_ewm_alpha_095_lag_28    311   1.641906\n",
      "8                 sales_lag_14    364   0.767560\n",
      "10                sales_lag_28    275   0.199208\n",
      "12          sales_roll_mean_21    235   0.170491\n",
      "9                 sales_lag_21    736   0.164403\n",
      "14  sales_ewm_alpha_095_lag_14    152   0.157466\n",
      "15  sales_ewm_alpha_095_lag_21    209   0.088086\n",
      "23   sales_ewm_alpha_08_lag_21     11   0.071269\n",
      "26   sales_ewm_alpha_07_lag_14     14   0.041827\n",
      "0                 day_of_month    752   0.030752\n",
      "18   sales_ewm_alpha_09_lag_14     46   0.025162\n",
      "34           municipality_id_1    167   0.023112\n",
      "1                  day_of_year    513   0.020744\n",
      "37           municipality_id_4     64   0.018235\n",
      "19   sales_ewm_alpha_09_lag_21     54   0.017398\n",
      "30   sales_ewm_alpha_05_lag_14     18   0.015715\n",
      "56               day_of_week_3    149   0.014041\n",
      "32   sales_ewm_alpha_05_lag_28     28   0.012011\n",
      "40           municipality_id_7     25   0.008838\n",
      "33           municipality_id_0    200   0.007367\n",
      "38           municipality_id_5     79   0.007220\n",
      "52         total_capacity_3893     12   0.003825\n",
      "39           municipality_id_6     27   0.003321\n"
     ]
    },
    {
     "data": {
      "image/png": "[encoded data removed]",
      "text/plain": [
       "<Figure size 720x720 with 1 Axes>"
      ]
     },
     "metadata": {},
     "output_type": "display_data"
    },
    {
     "data": {
      "image/png": "[encoded data removed]",
      "text/plain": [
       "<Figure size 720x720 with 1 Axes>"
      ]
     },
     "metadata": {},
     "output_type": "display_data"
    }
   ],
   "source": [
    "def plot_lgb_importances(model, plot=False, num=10):\n",
    "\n",
    "    gain = model.feature_importance('gain')\n",
    "    feat_imp = pd.DataFrame({'feature': model.feature_name(),\n",
    "                             'split': model.feature_importance('split'),\n",
    "                             'gain': 100 * gain / gain.sum()}).sort_values('gain', ascending=False)\n",
    "    if plot:\n",
    "        plt.figure(figsize=(10, 10))\n",
    "        sns.set(font_scale=1)\n",
    "        sns.barplot(x=\"gain\", y=\"feature\", data=feat_imp[0:25])\n",
    "        plt.title('feature')\n",
    "        plt.tight_layout()\n",
    "        plt.show()\n",
    "    else:\n",
    "        print(feat_imp.head(num))\n",
    "\n",
    "\n",
    "plot_lgb_importances(model, num=30)\n",
    "plot_lgb_importances(model, num=30, plot=True)\n",
    "\n",
    "lgb.plot_importance(model, max_num_features=20, figsize=(10, 10), importance_type=\"gain\")\n",
    "plt.show()\n"
   ]
  },
  {
   "cell_type": "code",
   "execution_count": 67,
   "id": "3d402c89-a973-4da3-ae30-238c80e6d158",
   "metadata": {
    "pycharm": {
     "name": "#%%\n"
    }
   },
   "outputs": [],
   "source": [
    "train = df.loc[~df.usage.isna()]\n",
    "Y_train = train['usage']\n",
    "X_train = train[cols]\n"
   ]
  },
  {
   "cell_type": "code",
   "execution_count": 69,
   "id": "4695b154-dcd8-4bc0-ae46-f1e23fdbcb4b",
   "metadata": {
    "pycharm": {
     "name": "#%%\n"
    }
   },
   "outputs": [],
   "source": [
    "X_test = test[cols]"
   ]
  },
  {
   "cell_type": "code",
   "execution_count": 71,
   "id": "9805e2fb-805c-49c7-9cf7-6b68926b3dd8",
   "metadata": {
    "pycharm": {
     "name": "#%%\n"
    }
   },
   "outputs": [
    {
     "name": "stdout",
     "output_type": "stream",
     "text": [
      "[LightGBM] [Warning] Auto-choosing col-wise multi-threading, the overhead of testing was 0.007537 seconds.\n",
      "You can set `force_col_wise=true` to remove the overhead.\n",
      "[LightGBM] [Warning] No further splits with positive gain, best gain: -inf\n",
      "[LightGBM] [Warning] No further splits with positive gain, best gain: -inf\n",
      "[LightGBM] [Warning] No further splits with positive gain, best gain: -inf\n",
      "[LightGBM] [Warning] No further splits with positive gain, best gain: -inf\n",
      "[LightGBM] [Warning] No further splits with positive gain, best gain: -inf\n",
      "[LightGBM] [Warning] No further splits with positive gain, best gain: -inf\n",
      "[LightGBM] [Warning] No further splits with positive gain, best gain: -inf\n",
      "[LightGBM] [Warning] No further splits with positive gain, best gain: -inf\n",
      "[LightGBM] [Warning] No further splits with positive gain, best gain: -inf\n",
      "[LightGBM] [Warning] No further splits with positive gain, best gain: -inf\n",
      "[LightGBM] [Warning] No further splits with positive gain, best gain: -inf\n",
      "[LightGBM] [Warning] No further splits with positive gain, best gain: -inf\n",
      "[LightGBM] [Warning] No further splits with positive gain, best gain: -inf\n",
      "[LightGBM] [Warning] No further splits with positive gain, best gain: -inf\n",
      "[LightGBM] [Warning] No further splits with positive gain, best gain: -inf\n",
      "[LightGBM] [Warning] No further splits with positive gain, best gain: -inf\n",
      "[LightGBM] [Warning] No further splits with positive gain, best gain: -inf\n",
      "[LightGBM] [Warning] No further splits with positive gain, best gain: -inf\n",
      "[LightGBM] [Warning] No further splits with positive gain, best gain: -inf\n",
      "[LightGBM] [Warning] No further splits with positive gain, best gain: -inf\n",
      "[LightGBM] [Warning] No further splits with positive gain, best gain: -inf\n"
     ]
    }
   ],
   "source": [
    "lgb_params = {'metric': {'mae'},\n",
    "              'num_leaves': 10,\n",
    "              'learning_rate': 0.02,\n",
    "              'feature_fraction': 0.8,\n",
    "              'max_depth': 5,\n",
    "              'verbose': 0,\n",
    "              'nthread': -1,\n",
    "              \"num_boost_round\": model.best_iteration}\n",
    "\n",
    "\n",
    "# LightGBM dataset\n",
    "lgbtrain_all = lgb.Dataset(data=X_train, label=Y_train, feature_name=cols)\n",
    "\n",
    "model = lgb.train(lgb_params, lgbtrain_all, num_boost_round=model.best_iteration)\n",
    "\n",
    "test_preds = model.predict(X_test, num_iteration=model.best_iteration)\n"
   ]
  },
  {
   "cell_type": "code",
   "execution_count": 72,
   "id": "d6686478-84b8-46ab-a8dd-9df34e992f8c",
   "metadata": {
    "pycharm": {
     "name": "#%%\n"
    }
   },
   "outputs": [
    {
     "ename": "KeyError",
     "evalue": "\"['municipality_id'] not in index\"",
     "output_type": "error",
     "traceback": [
      "\u001B[1;31m---------------------------------------------------------------------------\u001B[0m",
      "\u001B[1;31mKeyError\u001B[0m                                  Traceback (most recent call last)",
      "Input \u001B[1;32mIn [72]\u001B[0m, in \u001B[0;36m<cell line: 1>\u001B[1;34m()\u001B[0m\n\u001B[1;32m----> 1\u001B[0m submission_df \u001B[38;5;241m=\u001B[39m \u001B[43mtest\u001B[49m\u001B[38;5;241;43m.\u001B[39;49m\u001B[43mloc\u001B[49m\u001B[43m[\u001B[49m\u001B[43m:\u001B[49m\u001B[43m,\u001B[49m\u001B[43m \u001B[49m\u001B[43m[\u001B[49m\u001B[38;5;124;43m'\u001B[39;49m\u001B[38;5;124;43mmunicipality_id\u001B[39;49m\u001B[38;5;124;43m'\u001B[39;49m\u001B[43m,\u001B[49m\u001B[43m \u001B[49m\u001B[38;5;124;43m'\u001B[39;49m\u001B[38;5;124;43musage\u001B[39;49m\u001B[38;5;124;43m'\u001B[39;49m\u001B[43m]\u001B[49m\u001B[43m]\u001B[49m\n\u001B[0;32m      2\u001B[0m submission_df[\u001B[38;5;124m'\u001B[39m\u001B[38;5;124musage\u001B[39m\u001B[38;5;124m'\u001B[39m] \u001B[38;5;241m=\u001B[39m np\u001B[38;5;241m.\u001B[39mexpm1(test_preds)\n\u001B[0;32m      3\u001B[0m submission_df[\u001B[38;5;124m'\u001B[39m\u001B[38;5;124mmunicipality_id\u001B[39m\u001B[38;5;124m'\u001B[39m] \u001B[38;5;241m=\u001B[39m submission_df\u001B[38;5;241m.\u001B[39mid\u001B[38;5;241m.\u001B[39mastype(\u001B[38;5;28mint\u001B[39m)\n",
      "File \u001B[1;32mC:\\ProgramData\\Anaconda3\\lib\\site-packages\\pandas\\core\\indexing.py:961\u001B[0m, in \u001B[0;36m_LocationIndexer.__getitem__\u001B[1;34m(self, key)\u001B[0m\n\u001B[0;32m    959\u001B[0m     \u001B[38;5;28;01mif\u001B[39;00m \u001B[38;5;28mself\u001B[39m\u001B[38;5;241m.\u001B[39m_is_scalar_access(key):\n\u001B[0;32m    960\u001B[0m         \u001B[38;5;28;01mreturn\u001B[39;00m \u001B[38;5;28mself\u001B[39m\u001B[38;5;241m.\u001B[39mobj\u001B[38;5;241m.\u001B[39m_get_value(\u001B[38;5;241m*\u001B[39mkey, takeable\u001B[38;5;241m=\u001B[39m\u001B[38;5;28mself\u001B[39m\u001B[38;5;241m.\u001B[39m_takeable)\n\u001B[1;32m--> 961\u001B[0m     \u001B[38;5;28;01mreturn\u001B[39;00m \u001B[38;5;28;43mself\u001B[39;49m\u001B[38;5;241;43m.\u001B[39;49m\u001B[43m_getitem_tuple\u001B[49m\u001B[43m(\u001B[49m\u001B[43mkey\u001B[49m\u001B[43m)\u001B[49m\n\u001B[0;32m    962\u001B[0m \u001B[38;5;28;01melse\u001B[39;00m:\n\u001B[0;32m    963\u001B[0m     \u001B[38;5;66;03m# we by definition only have the 0th axis\u001B[39;00m\n\u001B[0;32m    964\u001B[0m     axis \u001B[38;5;241m=\u001B[39m \u001B[38;5;28mself\u001B[39m\u001B[38;5;241m.\u001B[39maxis \u001B[38;5;129;01mor\u001B[39;00m \u001B[38;5;241m0\u001B[39m\n",
      "File \u001B[1;32mC:\\ProgramData\\Anaconda3\\lib\\site-packages\\pandas\\core\\indexing.py:1149\u001B[0m, in \u001B[0;36m_LocIndexer._getitem_tuple\u001B[1;34m(self, tup)\u001B[0m\n\u001B[0;32m   1146\u001B[0m \u001B[38;5;28;01mif\u001B[39;00m \u001B[38;5;28mself\u001B[39m\u001B[38;5;241m.\u001B[39m_multi_take_opportunity(tup):\n\u001B[0;32m   1147\u001B[0m     \u001B[38;5;28;01mreturn\u001B[39;00m \u001B[38;5;28mself\u001B[39m\u001B[38;5;241m.\u001B[39m_multi_take(tup)\n\u001B[1;32m-> 1149\u001B[0m \u001B[38;5;28;01mreturn\u001B[39;00m \u001B[38;5;28;43mself\u001B[39;49m\u001B[38;5;241;43m.\u001B[39;49m\u001B[43m_getitem_tuple_same_dim\u001B[49m\u001B[43m(\u001B[49m\u001B[43mtup\u001B[49m\u001B[43m)\u001B[49m\n",
      "File \u001B[1;32mC:\\ProgramData\\Anaconda3\\lib\\site-packages\\pandas\\core\\indexing.py:827\u001B[0m, in \u001B[0;36m_LocationIndexer._getitem_tuple_same_dim\u001B[1;34m(self, tup)\u001B[0m\n\u001B[0;32m    824\u001B[0m \u001B[38;5;28;01mif\u001B[39;00m com\u001B[38;5;241m.\u001B[39mis_null_slice(key):\n\u001B[0;32m    825\u001B[0m     \u001B[38;5;28;01mcontinue\u001B[39;00m\n\u001B[1;32m--> 827\u001B[0m retval \u001B[38;5;241m=\u001B[39m \u001B[38;5;28;43mgetattr\u001B[39;49m\u001B[43m(\u001B[49m\u001B[43mretval\u001B[49m\u001B[43m,\u001B[49m\u001B[43m \u001B[49m\u001B[38;5;28;43mself\u001B[39;49m\u001B[38;5;241;43m.\u001B[39;49m\u001B[43mname\u001B[49m\u001B[43m)\u001B[49m\u001B[38;5;241;43m.\u001B[39;49m\u001B[43m_getitem_axis\u001B[49m\u001B[43m(\u001B[49m\u001B[43mkey\u001B[49m\u001B[43m,\u001B[49m\u001B[43m \u001B[49m\u001B[43maxis\u001B[49m\u001B[38;5;241;43m=\u001B[39;49m\u001B[43mi\u001B[49m\u001B[43m)\u001B[49m\n\u001B[0;32m    828\u001B[0m \u001B[38;5;66;03m# We should never have retval.ndim < self.ndim, as that should\u001B[39;00m\n\u001B[0;32m    829\u001B[0m \u001B[38;5;66;03m#  be handled by the _getitem_lowerdim call above.\u001B[39;00m\n\u001B[0;32m    830\u001B[0m \u001B[38;5;28;01massert\u001B[39;00m retval\u001B[38;5;241m.\u001B[39mndim \u001B[38;5;241m==\u001B[39m \u001B[38;5;28mself\u001B[39m\u001B[38;5;241m.\u001B[39mndim\n",
      "File \u001B[1;32mC:\\ProgramData\\Anaconda3\\lib\\site-packages\\pandas\\core\\indexing.py:1191\u001B[0m, in \u001B[0;36m_LocIndexer._getitem_axis\u001B[1;34m(self, key, axis)\u001B[0m\n\u001B[0;32m   1188\u001B[0m     \u001B[38;5;28;01mif\u001B[39;00m \u001B[38;5;28mhasattr\u001B[39m(key, \u001B[38;5;124m\"\u001B[39m\u001B[38;5;124mndim\u001B[39m\u001B[38;5;124m\"\u001B[39m) \u001B[38;5;129;01mand\u001B[39;00m key\u001B[38;5;241m.\u001B[39mndim \u001B[38;5;241m>\u001B[39m \u001B[38;5;241m1\u001B[39m:\n\u001B[0;32m   1189\u001B[0m         \u001B[38;5;28;01mraise\u001B[39;00m \u001B[38;5;167;01mValueError\u001B[39;00m(\u001B[38;5;124m\"\u001B[39m\u001B[38;5;124mCannot index with multidimensional key\u001B[39m\u001B[38;5;124m\"\u001B[39m)\n\u001B[1;32m-> 1191\u001B[0m     \u001B[38;5;28;01mreturn\u001B[39;00m \u001B[38;5;28;43mself\u001B[39;49m\u001B[38;5;241;43m.\u001B[39;49m\u001B[43m_getitem_iterable\u001B[49m\u001B[43m(\u001B[49m\u001B[43mkey\u001B[49m\u001B[43m,\u001B[49m\u001B[43m \u001B[49m\u001B[43maxis\u001B[49m\u001B[38;5;241;43m=\u001B[39;49m\u001B[43maxis\u001B[49m\u001B[43m)\u001B[49m\n\u001B[0;32m   1193\u001B[0m \u001B[38;5;66;03m# nested tuple slicing\u001B[39;00m\n\u001B[0;32m   1194\u001B[0m \u001B[38;5;28;01mif\u001B[39;00m is_nested_tuple(key, labels):\n",
      "File \u001B[1;32mC:\\ProgramData\\Anaconda3\\lib\\site-packages\\pandas\\core\\indexing.py:1132\u001B[0m, in \u001B[0;36m_LocIndexer._getitem_iterable\u001B[1;34m(self, key, axis)\u001B[0m\n\u001B[0;32m   1129\u001B[0m \u001B[38;5;28mself\u001B[39m\u001B[38;5;241m.\u001B[39m_validate_key(key, axis)\n\u001B[0;32m   1131\u001B[0m \u001B[38;5;66;03m# A collection of keys\u001B[39;00m\n\u001B[1;32m-> 1132\u001B[0m keyarr, indexer \u001B[38;5;241m=\u001B[39m \u001B[38;5;28;43mself\u001B[39;49m\u001B[38;5;241;43m.\u001B[39;49m\u001B[43m_get_listlike_indexer\u001B[49m\u001B[43m(\u001B[49m\u001B[43mkey\u001B[49m\u001B[43m,\u001B[49m\u001B[43m \u001B[49m\u001B[43maxis\u001B[49m\u001B[43m)\u001B[49m\n\u001B[0;32m   1133\u001B[0m \u001B[38;5;28;01mreturn\u001B[39;00m \u001B[38;5;28mself\u001B[39m\u001B[38;5;241m.\u001B[39mobj\u001B[38;5;241m.\u001B[39m_reindex_with_indexers(\n\u001B[0;32m   1134\u001B[0m     {axis: [keyarr, indexer]}, copy\u001B[38;5;241m=\u001B[39m\u001B[38;5;28;01mTrue\u001B[39;00m, allow_dups\u001B[38;5;241m=\u001B[39m\u001B[38;5;28;01mTrue\u001B[39;00m\n\u001B[0;32m   1135\u001B[0m )\n",
      "File \u001B[1;32mC:\\ProgramData\\Anaconda3\\lib\\site-packages\\pandas\\core\\indexing.py:1327\u001B[0m, in \u001B[0;36m_LocIndexer._get_listlike_indexer\u001B[1;34m(self, key, axis)\u001B[0m\n\u001B[0;32m   1324\u001B[0m ax \u001B[38;5;241m=\u001B[39m \u001B[38;5;28mself\u001B[39m\u001B[38;5;241m.\u001B[39mobj\u001B[38;5;241m.\u001B[39m_get_axis(axis)\n\u001B[0;32m   1325\u001B[0m axis_name \u001B[38;5;241m=\u001B[39m \u001B[38;5;28mself\u001B[39m\u001B[38;5;241m.\u001B[39mobj\u001B[38;5;241m.\u001B[39m_get_axis_name(axis)\n\u001B[1;32m-> 1327\u001B[0m keyarr, indexer \u001B[38;5;241m=\u001B[39m \u001B[43max\u001B[49m\u001B[38;5;241;43m.\u001B[39;49m\u001B[43m_get_indexer_strict\u001B[49m\u001B[43m(\u001B[49m\u001B[43mkey\u001B[49m\u001B[43m,\u001B[49m\u001B[43m \u001B[49m\u001B[43maxis_name\u001B[49m\u001B[43m)\u001B[49m\n\u001B[0;32m   1329\u001B[0m \u001B[38;5;28;01mreturn\u001B[39;00m keyarr, indexer\n",
      "File \u001B[1;32mC:\\ProgramData\\Anaconda3\\lib\\site-packages\\pandas\\core\\indexes\\base.py:5782\u001B[0m, in \u001B[0;36mIndex._get_indexer_strict\u001B[1;34m(self, key, axis_name)\u001B[0m\n\u001B[0;32m   5779\u001B[0m \u001B[38;5;28;01melse\u001B[39;00m:\n\u001B[0;32m   5780\u001B[0m     keyarr, indexer, new_indexer \u001B[38;5;241m=\u001B[39m \u001B[38;5;28mself\u001B[39m\u001B[38;5;241m.\u001B[39m_reindex_non_unique(keyarr)\n\u001B[1;32m-> 5782\u001B[0m \u001B[38;5;28;43mself\u001B[39;49m\u001B[38;5;241;43m.\u001B[39;49m\u001B[43m_raise_if_missing\u001B[49m\u001B[43m(\u001B[49m\u001B[43mkeyarr\u001B[49m\u001B[43m,\u001B[49m\u001B[43m \u001B[49m\u001B[43mindexer\u001B[49m\u001B[43m,\u001B[49m\u001B[43m \u001B[49m\u001B[43maxis_name\u001B[49m\u001B[43m)\u001B[49m\n\u001B[0;32m   5784\u001B[0m keyarr \u001B[38;5;241m=\u001B[39m \u001B[38;5;28mself\u001B[39m\u001B[38;5;241m.\u001B[39mtake(indexer)\n\u001B[0;32m   5785\u001B[0m \u001B[38;5;28;01mif\u001B[39;00m \u001B[38;5;28misinstance\u001B[39m(key, Index):\n\u001B[0;32m   5786\u001B[0m     \u001B[38;5;66;03m# GH 42790 - Preserve name from an Index\u001B[39;00m\n",
      "File \u001B[1;32mC:\\ProgramData\\Anaconda3\\lib\\site-packages\\pandas\\core\\indexes\\base.py:5845\u001B[0m, in \u001B[0;36mIndex._raise_if_missing\u001B[1;34m(self, key, indexer, axis_name)\u001B[0m\n\u001B[0;32m   5842\u001B[0m     \u001B[38;5;28;01mraise\u001B[39;00m \u001B[38;5;167;01mKeyError\u001B[39;00m(\u001B[38;5;124mf\u001B[39m\u001B[38;5;124m\"\u001B[39m\u001B[38;5;124mNone of [\u001B[39m\u001B[38;5;132;01m{\u001B[39;00mkey\u001B[38;5;132;01m}\u001B[39;00m\u001B[38;5;124m] are in the [\u001B[39m\u001B[38;5;132;01m{\u001B[39;00maxis_name\u001B[38;5;132;01m}\u001B[39;00m\u001B[38;5;124m]\u001B[39m\u001B[38;5;124m\"\u001B[39m)\n\u001B[0;32m   5844\u001B[0m not_found \u001B[38;5;241m=\u001B[39m \u001B[38;5;28mlist\u001B[39m(ensure_index(key)[missing_mask\u001B[38;5;241m.\u001B[39mnonzero()[\u001B[38;5;241m0\u001B[39m]]\u001B[38;5;241m.\u001B[39munique())\n\u001B[1;32m-> 5845\u001B[0m \u001B[38;5;28;01mraise\u001B[39;00m \u001B[38;5;167;01mKeyError\u001B[39;00m(\u001B[38;5;124mf\u001B[39m\u001B[38;5;124m\"\u001B[39m\u001B[38;5;132;01m{\u001B[39;00mnot_found\u001B[38;5;132;01m}\u001B[39;00m\u001B[38;5;124m not in index\u001B[39m\u001B[38;5;124m\"\u001B[39m)\n",
      "\u001B[1;31mKeyError\u001B[0m: \"['municipality_id'] not in index\""
     ]
    }
   ],
   "source": [
    "submission_df = test.loc[:, ['municipality_id', 'usage']]\n",
    "submission_df['usage'] = np.expm1(test_preds)\n",
    "submission_df['municipality_id'] = submission_df.id.astype(int)\n",
    "submission_df.head(20)"
   ]
  },
  {
   "cell_type": "code",
   "execution_count": null,
   "id": "ce3c6ddd-ebe4-46be-a7b4-edcaf2eb810b",
   "metadata": {
    "pycharm": {
     "name": "#%%\n"
    }
   },
   "outputs": [],
   "source": []
  }
 ],
 "metadata": {
  "kernelspec": {
   "display_name": "Python 3 (ipykernel)",
   "language": "python",
   "name": "python3"
  },
  "language_info": {
   "codemirror_mode": {
    "name": "ipython",
    "version": 3
   },
   "file_extension": ".py",
   "mimetype": "text/x-python",
   "name": "python",
   "nbconvert_exporter": "python",
   "pygments_lexer": "ipython3",
   "version": "3.9.12"
  }
 },
 "nbformat": 4,
 "nbformat_minor": 5
}